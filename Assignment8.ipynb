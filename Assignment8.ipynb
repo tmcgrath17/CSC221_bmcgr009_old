{
  "nbformat": 4,
  "nbformat_minor": 0,
  "metadata": {
    "colab": {
      "provenance": [],
      "authorship_tag": "ABX9TyMjuMGlKLINvLjHsUXCuezT",
      "include_colab_link": true
    },
    "kernelspec": {
      "name": "python3",
      "display_name": "Python 3"
    },
    "language_info": {
      "name": "python"
    }
  },
  "cells": [
    {
      "cell_type": "markdown",
      "metadata": {
        "id": "view-in-github",
        "colab_type": "text"
      },
      "source": [
        "<a href=\"https://colab.research.google.com/github/tmcgrath17/CSC221_bmcgr009/blob/main/Assignment8.ipynb\" target=\"_parent\"><img src=\"https://colab.research.google.com/assets/colab-badge.svg\" alt=\"Open In Colab\"/></a>"
      ]
    },
    {
      "cell_type": "code",
      "execution_count": null,
      "metadata": {
        "id": "JqdAJOZ_NPQp"
      },
      "outputs": [],
      "source": [
        "#Brady McGrath\n",
        "#Assignment 8"
      ]
    },
    {
      "cell_type": "code",
      "source": [
        "message = input(\"Tell me something, and I will repeat it back to you: \")\n",
        "print(message)\n",
        "\n",
        "name = input(\"Please enter your name: \")\n",
        "print(f\"\\nHello, {name}!\")\n",
        "\n",
        "prompt = \"If you share your name, we can personalize the messages you see.\"\n",
        "prompt += \"\\nWhat is your first name? \"\n",
        "name = input(prompt)\n",
        "print(f\"\\nHello, {name}!\")\n",
        "\n",
        "age = input(\"How old are you? \")\n",
        "age = int(age)\n",
        "\n",
        "height = input(\"How tall are you, in inches? \")\n",
        "height = int(height)\n",
        "if height >= 48:\n",
        " print(\"\\nYou're tall enough to ride!\")\n",
        "else:\n",
        " print(\"\\nYou'll be able to ride when you're a little older.\")\n",
        "\n",
        "number = input(\"Enter a number, and I'll tell you if it's even or odd: \")\n",
        "number = int(number)\n",
        "if number % 2 == 0:\n",
        " print(f\"\\nThe number {number} is even.\")\n",
        "else:\n",
        " print(f\"\\nThe number {number} is odd.\")\n",
        "\n",
        "#Try It Yourself:\n",
        "\n",
        "car = input(\"What type of rental car would you like? \")\n",
        "print(f\"We'll see if a {car} is available.\")\n",
        "\n",
        "multen = input(\"Please input a number. \")\n",
        "multen = int(multen)\n",
        "if multen % 10 == 0:\n",
        " print(f\"{multen} is a multiple of 10.\")\n",
        "else:\n",
        " print(f\"{multen} is not a multiple of 10.\")"
      ],
      "metadata": {
        "id": "GIx58Xs8NVFs"
      },
      "execution_count": null,
      "outputs": []
    },
    {
      "cell_type": "code",
      "source": [
        "current_number = 1\n",
        "while current_number <= 5:\n",
        " print(current_number)\n",
        " current_number += 1\n",
        "\n",
        "current_number = 0\n",
        "while current_number < 10:\n",
        " current_number += 1\n",
        " if current_number % 2 == 0:\n",
        "  continue\n",
        " print(current_number)\n",
        "\n",
        "prompt = \"\\nTell me something, and I will repeat it back to you:\"\n",
        "prompt += \"\\nEnter 'quit' to end the program. \"\n",
        "message = \"\"\n",
        "while message != 'quit':\n",
        " message = input(prompt)\n",
        " if message != 'quit':\n",
        "  print(message)\n",
        "\n",
        "active = True\n",
        "while active:\n",
        " message = input(prompt)\n",
        " if message == 'quit':\n",
        "  active = False\n",
        " else:\n",
        "  print(message)\n",
        "\n",
        "while True:\n",
        " city = input(prompt)\n",
        " if city == 'quit':\n",
        "  break\n",
        " else:\n",
        "  print(f\"I'd love to go to {city.title()}!\")\n",
        "\n",
        "x = 1\n",
        "while x <= 5:\n",
        " print(x)\n",
        " x += 1\n",
        "\n",
        "#Try It Yourself:\n",
        "\n",
        "while True:\n",
        " age = input(\"What is your age? \")\n",
        " try:\n",
        "  age = int(age)\n",
        " except:\n",
        "  break\n",
        " if age < 3:\n",
        "  print(\"Your ticket is free!\")\n",
        " elif age <= 12:\n",
        "  print(\"Your ticket is $10.\")\n",
        " else:\n",
        "  print(\"Your ticket is $15\")\n",
        "\n",
        "while True:\n",
        " age = input(\"What is your age? \")\n",
        " if age == 'quit':\n",
        "  break\n",
        " else:\n",
        "  if age < 3:\n",
        "   print(\"Your ticket is free!\")\n",
        "  elif age <= 12:\n",
        "   print(\"Your ticket is $10.\")\n",
        "  else:\n",
        "   print(\"Your ticket is $15\")\n",
        "\n",
        "stillAsking = 0\n",
        "while stillAsking < 3:\n",
        " age = input(\"What is your age? \")\n",
        " if age < 3:\n",
        "  print(\"Your ticket is free!\")\n",
        " elif age <= 12:\n",
        "  print(\"Your ticket is $10.\")\n",
        " else:\n",
        "  print(\"Your ticket is $15\")\n",
        " stillAsking += 1"
      ],
      "metadata": {
        "id": "IVfWHoeqdBO1"
      },
      "execution_count": null,
      "outputs": []
    },
    {
      "cell_type": "code",
      "source": [
        "unconfirmed_users = ['alice', 'brian', 'candace']\n",
        "confirmed_users = []\n",
        "\n",
        "while unconfirmed_users:\n",
        " current_user = unconfirmed_users.pop()\n",
        " print(f\"Verifying user: {current_user.title()}\")\n",
        " confirmed_users.append(current_user)\n",
        "\n",
        "print(\"\\nThe following users have been confirmed:\")\n",
        "for confirmed_user in confirmed_users:\n",
        " print(confirmed_user.title())\n",
        "\n",
        "pets = ['dog', 'cat', 'dog', 'goldfish', 'cat', 'rabbit', 'cat']\n",
        "print(pets)\n",
        "while 'cat' in pets:\n",
        " pets.remove('cat')\n",
        "print(pets)\n",
        "\n",
        "responses = {}\n",
        "polling_active = True\n",
        "\n",
        "while polling_active:\n",
        " name = input(\"\\nWhat is your name? \")\n",
        " response = input(\"Which mountain would you like to climb someday? \")\n",
        " responses[name] = response\n",
        " repeat = input(\"Would you like to let another person respond? (yes/ no) \")\n",
        " if repeat == 'no':\n",
        "  polling_active = False\n",
        "\n",
        "print(\"\\n--- Poll Results ---\")\n",
        "for name, response in responses.items():\n",
        " print(f\"{name} would like to climb {response}.\")\n",
        "\n",
        "#Try It Yourself\n",
        "\n",
        "sandwich_orders = ['ham', 'italian', 'meatball', 'reuben', 'turkey']\n",
        "finished_sandwiches = []\n",
        "\n",
        "while len(sandwich_orders) > 0:\n",
        " current = sandwich_orders[0]\n",
        " print(f\"The {current} sandwich has been made.\")\n",
        " finished_sandwiches.append(current)\n",
        " sandwich_orders.remove(current)\n",
        "\n",
        "print(finished_sandwiches)"
      ],
      "metadata": {
        "id": "V3uaBR_kEJZF"
      },
      "execution_count": null,
      "outputs": []
    },
    {
      "cell_type": "code",
      "source": [
        "total = 0\n",
        "operators = ['+', '-', '*', '/']\n",
        "\n",
        "while True:\n",
        "  valid_num = False\n",
        "  while not valid_num:\n",
        "    num = input(\"Enter your number. \")\n",
        "    try:\n",
        "      int(num)\n",
        "      valid_num = True\n",
        "    except:\n",
        "      print(\"Invalid input.\")\n",
        "\n",
        "  valid_operator = False\n",
        "  while not valid_operator:\n",
        "    op = input(\"Enter your operator. \")\n",
        "    if op in operators:\n",
        "      valid_operator = True\n",
        "    else:\n",
        "      print(\"Invalid input.\")\n",
        "\n",
        "  equation = eval(f'{total}{op}{num}')\n",
        "  total = equation\n",
        "  print(total)"
      ],
      "metadata": {
        "colab": {
          "base_uri": "https://localhost:8080/",
          "height": 494
        },
        "id": "KZKwzTGjOIWA",
        "outputId": "976a1280-96b4-42ff-e32b-06706e134295"
      },
      "execution_count": 9,
      "outputs": [
        {
          "output_type": "stream",
          "name": "stdout",
          "text": [
            "Enter your number. 3\n",
            "Enter your operator. +\n",
            "3\n",
            "Enter your number. 9\n",
            "Enter your operator. *\n",
            "27\n"
          ]
        },
        {
          "output_type": "error",
          "ename": "KeyboardInterrupt",
          "evalue": "ignored",
          "traceback": [
            "\u001b[0;31m---------------------------------------------------------------------------\u001b[0m",
            "\u001b[0;31mKeyboardInterrupt\u001b[0m                         Traceback (most recent call last)",
            "\u001b[0;32m<ipython-input-9-53589d190d74>\u001b[0m in \u001b[0;36m<cell line: 4>\u001b[0;34m()\u001b[0m\n\u001b[1;32m      5\u001b[0m   \u001b[0mvalid_num\u001b[0m \u001b[0;34m=\u001b[0m \u001b[0;32mFalse\u001b[0m\u001b[0;34m\u001b[0m\u001b[0;34m\u001b[0m\u001b[0m\n\u001b[1;32m      6\u001b[0m   \u001b[0;32mwhile\u001b[0m \u001b[0;32mnot\u001b[0m \u001b[0mvalid_num\u001b[0m\u001b[0;34m:\u001b[0m\u001b[0;34m\u001b[0m\u001b[0;34m\u001b[0m\u001b[0m\n\u001b[0;32m----> 7\u001b[0;31m     \u001b[0mnum\u001b[0m \u001b[0;34m=\u001b[0m \u001b[0minput\u001b[0m\u001b[0;34m(\u001b[0m\u001b[0;34m\"Enter your number. \"\u001b[0m\u001b[0;34m)\u001b[0m\u001b[0;34m\u001b[0m\u001b[0;34m\u001b[0m\u001b[0m\n\u001b[0m\u001b[1;32m      8\u001b[0m     \u001b[0;32mtry\u001b[0m\u001b[0;34m:\u001b[0m\u001b[0;34m\u001b[0m\u001b[0;34m\u001b[0m\u001b[0m\n\u001b[1;32m      9\u001b[0m       \u001b[0mint\u001b[0m\u001b[0;34m(\u001b[0m\u001b[0mnum\u001b[0m\u001b[0;34m)\u001b[0m\u001b[0;34m\u001b[0m\u001b[0;34m\u001b[0m\u001b[0m\n",
            "\u001b[0;32m/usr/local/lib/python3.10/dist-packages/ipykernel/kernelbase.py\u001b[0m in \u001b[0;36mraw_input\u001b[0;34m(self, prompt)\u001b[0m\n\u001b[1;32m    849\u001b[0m                 \u001b[0;34m\"raw_input was called, but this frontend does not support input requests.\"\u001b[0m\u001b[0;34m\u001b[0m\u001b[0;34m\u001b[0m\u001b[0m\n\u001b[1;32m    850\u001b[0m             )\n\u001b[0;32m--> 851\u001b[0;31m         return self._input_request(str(prompt),\n\u001b[0m\u001b[1;32m    852\u001b[0m             \u001b[0mself\u001b[0m\u001b[0;34m.\u001b[0m\u001b[0m_parent_ident\u001b[0m\u001b[0;34m,\u001b[0m\u001b[0;34m\u001b[0m\u001b[0;34m\u001b[0m\u001b[0m\n\u001b[1;32m    853\u001b[0m             \u001b[0mself\u001b[0m\u001b[0;34m.\u001b[0m\u001b[0m_parent_header\u001b[0m\u001b[0;34m,\u001b[0m\u001b[0;34m\u001b[0m\u001b[0;34m\u001b[0m\u001b[0m\n",
            "\u001b[0;32m/usr/local/lib/python3.10/dist-packages/ipykernel/kernelbase.py\u001b[0m in \u001b[0;36m_input_request\u001b[0;34m(self, prompt, ident, parent, password)\u001b[0m\n\u001b[1;32m    893\u001b[0m             \u001b[0;32mexcept\u001b[0m \u001b[0mKeyboardInterrupt\u001b[0m\u001b[0;34m:\u001b[0m\u001b[0;34m\u001b[0m\u001b[0;34m\u001b[0m\u001b[0m\n\u001b[1;32m    894\u001b[0m                 \u001b[0;31m# re-raise KeyboardInterrupt, to truncate traceback\u001b[0m\u001b[0;34m\u001b[0m\u001b[0;34m\u001b[0m\u001b[0m\n\u001b[0;32m--> 895\u001b[0;31m                 \u001b[0;32mraise\u001b[0m \u001b[0mKeyboardInterrupt\u001b[0m\u001b[0;34m(\u001b[0m\u001b[0;34m\"Interrupted by user\"\u001b[0m\u001b[0;34m)\u001b[0m \u001b[0;32mfrom\u001b[0m \u001b[0;32mNone\u001b[0m\u001b[0;34m\u001b[0m\u001b[0;34m\u001b[0m\u001b[0m\n\u001b[0m\u001b[1;32m    896\u001b[0m             \u001b[0;32mexcept\u001b[0m \u001b[0mException\u001b[0m \u001b[0;32mas\u001b[0m \u001b[0me\u001b[0m\u001b[0;34m:\u001b[0m\u001b[0;34m\u001b[0m\u001b[0;34m\u001b[0m\u001b[0m\n\u001b[1;32m    897\u001b[0m                 \u001b[0mself\u001b[0m\u001b[0;34m.\u001b[0m\u001b[0mlog\u001b[0m\u001b[0;34m.\u001b[0m\u001b[0mwarning\u001b[0m\u001b[0;34m(\u001b[0m\u001b[0;34m\"Invalid Message:\"\u001b[0m\u001b[0;34m,\u001b[0m \u001b[0mexc_info\u001b[0m\u001b[0;34m=\u001b[0m\u001b[0;32mTrue\u001b[0m\u001b[0;34m)\u001b[0m\u001b[0;34m\u001b[0m\u001b[0;34m\u001b[0m\u001b[0m\n",
            "\u001b[0;31mKeyboardInterrupt\u001b[0m: Interrupted by user"
          ]
        }
      ]
    }
  ]
}
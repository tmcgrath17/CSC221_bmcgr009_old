{
  "nbformat": 4,
  "nbformat_minor": 0,
  "metadata": {
    "colab": {
      "provenance": [],
      "authorship_tag": "ABX9TyO6iomPhMyR+lTflgXzjWZs",
      "include_colab_link": true
    },
    "kernelspec": {
      "name": "python3",
      "display_name": "Python 3"
    },
    "language_info": {
      "name": "python"
    }
  },
  "cells": [
    {
      "cell_type": "markdown",
      "metadata": {
        "id": "view-in-github",
        "colab_type": "text"
      },
      "source": [
        "<a href=\"https://colab.research.google.com/github/tmcgrath17/CSC221_bmcgr009/blob/main/Assignment5.ipynb\" target=\"_parent\"><img src=\"https://colab.research.google.com/assets/colab-badge.svg\" alt=\"Open In Colab\"/></a>"
      ]
    },
    {
      "cell_type": "code",
      "execution_count": null,
      "metadata": {
        "id": "My0HfGYnDOPN"
      },
      "outputs": [],
      "source": [
        "magicians = ['alice', 'david', 'carolina']\n",
        "for magician in magicians:\n",
        " print(magician)\n",
        " print(f\"{magician.title()}, that was a great trick!\")\n",
        " print(f\"I can't wait to see your next trick, {magician.title()}.\\n\")\n",
        "\n",
        "print(\"Thank you, everyone. That was a great magic show!\")\n",
        "\n",
        "#Try it yourself\n",
        "\n",
        "print(\"\")\n",
        "\n",
        "pizzas = [\"meatball\",\"hawaiian\",\"pepperoni\",\"cheese\"]\n",
        "friend_pizzas = [\"meatball\",\"hawaiian\",\"pepperoni\",\"mushroom\"]\n",
        "for pizza in pizzas:\n",
        "  print(f\"I'm a fan of {pizza} pizza...\")\n",
        "print(\"Pizza is my favorite food!\")\n",
        "print(\"My favorite pizzas are:\")\n",
        "for pizza in pizzas:\n",
        " print(pizza)\n",
        "print(\"My friend's favorite pizzas are:\")\n",
        "for pizza in friend_pizzas:\n",
        " print(pizza)\n",
        "\n",
        "#4-2 is the exact same as 4-1 except with animals instead of pizza"
      ]
    },
    {
      "cell_type": "code",
      "source": [
        "for value in range(1, 5):\n",
        " print(value)\n",
        "\n",
        "numbers = list(range(1, 6))\n",
        "print(numbers)\n",
        "print(\"The first three items in the list are:\")\n",
        "for num in numbers[:3]:\n",
        "  print(num)\n",
        "print(\"Three items from the middle of the list are:\")\n",
        "for num in numbers[1:4]:\n",
        "  print(num)\n",
        "print(\"The last tree items in the list are:\")\n",
        "for num in numbers[-3:]:\n",
        "  print(num)\n",
        "\n",
        "even_numbers = list(range(2, 11, 2))\n",
        "print(even_numbers)\n",
        "\n",
        "squares = []\n",
        "for value in range(1, 11):\n",
        " square = value ** 2\n",
        " squares.append(square)\n",
        "print(squares)\n",
        "\n",
        "squares = []\n",
        "for value in range(1, 11):\n",
        " squares.append(value ** 2)\n",
        "print(squares)\n",
        "\n",
        "squares = [value**2 for value in range(1, 11)]\n",
        "print(squares)\n",
        "\n",
        "digits = [0,1,2,3,4,5,6,7,8,9]\n",
        "print(min(digits))\n",
        "print(max(digits))\n",
        "print(sum(digits))\n",
        "\n",
        "#Try it yourself\n",
        "print(\"\")\n",
        "\n",
        "for value in range(1,21):\n",
        "  print(value)\n",
        "\n",
        "long_list = list(range(1,1000001))\n",
        "#for digit in long_list: #commented out for the sake of viewing other output\n",
        "  #print(digit)\n",
        "\n",
        "print(min(long_list))\n",
        "print(max(long_list))\n",
        "print(sum(long_list))\n",
        "\n",
        "odd_list = list(range(1,21,2))\n",
        "for oddnum in odd_list:\n",
        "  print(oddnum)\n",
        "\n",
        "three_list = list(range(3,31,3))\n",
        "for trinum in three_list:\n",
        "  print(trinum)\n",
        "\n",
        "cubes = [value**3 for value in range(1, 11)]\n",
        "for cube in cubes:\n",
        "  print(cube)"
      ],
      "metadata": {
        "id": "NouKrvgiNgde"
      },
      "execution_count": null,
      "outputs": []
    },
    {
      "cell_type": "code",
      "source": [
        "players = ['charles', 'martina', 'michael', 'florence', 'eli']\n",
        "print(players[0:3])\n",
        "print(players[1:4])\n",
        "print(players[:4])\n",
        "print(players[2:])\n",
        "print(players[-3:])\n",
        "\n",
        "print(\"Here are the first three players on my team:\")\n",
        "for player in players[:3]:\n",
        " print(player.title())\n",
        "\n",
        "my_foods = ['pizza', 'falafel', 'carrot cake']\n",
        "friend_foods = my_foods[:]\n",
        "my_foods.append('cannoli')\n",
        "friend_foods.append('ice cream')\n",
        "print(\"My favorite foods are:\")\n",
        "print(my_foods)\n",
        "print(\"\\nMy friend's favorite foods are:\")\n",
        "print(friend_foods)\n",
        "\n",
        "#Try it yourself\n",
        "#Seen in previous code"
      ],
      "metadata": {
        "id": "sOZ0SqikS6qL"
      },
      "execution_count": null,
      "outputs": []
    },
    {
      "cell_type": "code",
      "source": [
        "dimensions = (200, 50)\n",
        "print(dimensions[0])\n",
        "print(dimensions[1])\n",
        "for dimension in dimensions:\n",
        " print(dimension)\n",
        "\n",
        "print(\"Original dimensions:\")\n",
        "for dimension in dimensions:\n",
        " print(dimension)\n",
        "dimensions = (400, 100)\n",
        "print(\"\\nModified dimensions:\")\n",
        "for dimension in dimensions:\n",
        " print(dimension)\n",
        "\n",
        "#Try it yourself\n",
        "print(\"\")\n",
        "\n",
        "buffet = (\"steak\",\"potato\",\"beans\",\"bread\",\"carrot\")\n",
        "for food in buffet:\n",
        "  print(food)\n",
        "\n",
        "buffet = (\"burger\",\"potato\",\"beans\",\"bread\",\"cucumber\")\n",
        "for food in buffet:\n",
        "  print(food)"
      ],
      "metadata": {
        "id": "i023ebwoWDtf"
      },
      "execution_count": null,
      "outputs": []
    }
  ]
}
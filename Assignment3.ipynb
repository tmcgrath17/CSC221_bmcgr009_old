{
  "nbformat": 4,
  "nbformat_minor": 0,
  "metadata": {
    "colab": {
      "provenance": [],
      "authorship_tag": "ABX9TyNFaU0Ht73O7uLDJQJuXPGM",
      "include_colab_link": true
    },
    "kernelspec": {
      "name": "python3",
      "display_name": "Python 3"
    },
    "language_info": {
      "name": "python"
    }
  },
  "cells": [
    {
      "cell_type": "markdown",
      "metadata": {
        "id": "view-in-github",
        "colab_type": "text"
      },
      "source": [
        "<a href=\"https://colab.research.google.com/github/tmcgrath17/CSC221_bmcgr009/blob/main/Assignment3.ipynb\" target=\"_parent\"><img src=\"https://colab.research.google.com/assets/colab-badge.svg\" alt=\"Open In Colab\"/></a>"
      ]
    },
    {
      "cell_type": "code",
      "execution_count": null,
      "metadata": {
        "id": "8tSCO4s-nvd2"
      },
      "outputs": [],
      "source": [
        "message = \"Hello Python world!\"\n",
        "print(message)\n",
        "\n",
        "message = \"Hello Python Crash Course world!\"\n",
        "print(message)\n",
        "\n",
        "#Try It Yourself:\n",
        "\n",
        "mymessage = \"I like dogs :)\"\n",
        "print(mymessage)\n",
        "mymessage = \"I like dogs and cats too :)\"\n",
        "print(mymessage)"
      ]
    },
    {
      "cell_type": "code",
      "source": [
        "name = \"ada lovelace\"\n",
        "print(name.title())\n",
        "\n",
        "name2 = \"Ada Lovelace\"\n",
        "print(name2.upper())\n",
        "print(name2.lower())\n",
        "\n",
        "first_name = \"ada\"\n",
        "last_name = \"lovelace\"\n",
        "full_name = f\"{first_name} {last_name}\"\n",
        "print(full_name)\n",
        "print(f\"Hello, {full_name.title()}!\")\n",
        "\n",
        "name_message = f\"Hello, {full_name.title()}!\"\n",
        "print(name_message)\n",
        "\n",
        "#Try It Yourself:\n",
        "\n",
        "persons_name = \"Daniel\"\n",
        "print(f\"Hey {persons_name}, hows it going?\")\n",
        "\n",
        "print(persons_name.title())\n",
        "print(persons_name.upper())\n",
        "print(persons_name.lower())\n",
        "\n",
        "print(\"''You miss 100% of the shots you don't take. -Wayne Gretzky'' -Michael Scott\")\n",
        "#This is a nice quote\n",
        "\n",
        "famous_person = \"Michael Scott\"\n",
        "famous_mesage = f\"''You miss 100% of the shots you don't take. -Wayne Gretzky'' -{famous_person}\"\n",
        "print(famous_mesage)"
      ],
      "metadata": {
        "id": "7lCGkVHDpZmb"
      },
      "execution_count": null,
      "outputs": []
    },
    {
      "cell_type": "code",
      "source": [
        "print(\"Python\")\n",
        "print(\"\\tPython\")\n",
        "\n",
        "print(\"Languages:\\nPython\\nC\\nJavaScript\")\n",
        "\n",
        "print(\"Languages:\\n\\tPython\\n\\tC\\n\\tJavaScript\")\n",
        "\n",
        "favorite_language = \"python \"\n",
        "favorite_language.rstrip()\n",
        "\n",
        "favorite_language = \" python\"\n",
        "favorite_language.lstrip()\n",
        "\n",
        "favorite_language = \" python \"\n",
        "favorite_language.strip()\n",
        "\n",
        "#Try It Yourself:\n",
        "\n",
        "whitespace_name = \" Timothy \"\n",
        "print(whitespace_name)\n",
        "\n",
        "list_of_names = f\"Names:\\n\\t'{whitespace_name}'\\n\\t'Bob'\\n\\t'Jane'\"\n",
        "print(list_of_names)\n",
        "\n",
        "print(f\"'{whitespace_name.rstrip()}'\")\n",
        "print(f\"'{whitespace_name.lstrip()}'\")\n",
        "print(f\"'{whitespace_name.strip()}'\")\n"
      ],
      "metadata": {
        "id": "VGW1HM0jrI96"
      },
      "execution_count": null,
      "outputs": []
    },
    {
      "cell_type": "code",
      "source": [
        "nostarch_url = \"https://nostarch.com\"\n",
        "print(nostarch_url.removeprefix(\"https://\"))\n",
        "\n",
        "simple_url = nostarch_url.removeprefix(\"https://\")\n",
        "\n",
        "string_literal_example = \"It's so nice to be able to use apostraphes inside double quotes\"\n",
        "#It also works the same way if you use single quotes on the outside of a string, you'll be able to use quotes inside the string\n",
        "\n",
        "#Try It Yourself:\n",
        "\n",
        "filename = \"python_notes.txt\"\n",
        "print(filename.removesuffix(\".txt\"))"
      ],
      "metadata": {
        "id": "_YjG31eCtKfq"
      },
      "execution_count": null,
      "outputs": []
    },
    {
      "cell_type": "code",
      "source": [
        "universe_age = 14_000_000_000\n",
        "print(universe_age)\n",
        "\n",
        "x,y,z = 0,0,0\n",
        "\n",
        "MAX_CONNECTIONS = 5000\n",
        "\n",
        "#Try It Yourself:\n",
        "\n",
        "print(4+4)\n",
        "print(13-5)\n",
        "print(2*4)\n",
        "print(40/5)\n",
        "\n",
        "favorite_number = 17\n",
        "\n",
        "fav_message = f\"My favorite number is {str(favorite_number)}\"\n",
        "print(fav_message)"
      ],
      "metadata": {
        "id": "474kHDDBmjoh"
      },
      "execution_count": null,
      "outputs": []
    },
    {
      "cell_type": "code",
      "source": [
        "# Say hello to everyone\n",
        "print(\"Hello Python people!\")\n",
        "\n",
        "#Try It Yourself\n",
        "\n",
        "#(Two comments seen in other areas of code above)"
      ],
      "metadata": {
        "id": "4X4mxKBZn1a2"
      },
      "execution_count": null,
      "outputs": []
    },
    {
      "cell_type": "code",
      "source": [
        "import this"
      ],
      "metadata": {
        "colab": {
          "base_uri": "https://localhost:8080/"
        },
        "id": "8OKqn0VDoeef",
        "outputId": "06c8f0c7-26e6-4957-cf5d-1075a29c9700"
      },
      "execution_count": 15,
      "outputs": [
        {
          "output_type": "stream",
          "name": "stdout",
          "text": [
            "The Zen of Python, by Tim Peters\n",
            "\n",
            "Beautiful is better than ugly.\n",
            "Explicit is better than implicit.\n",
            "Simple is better than complex.\n",
            "Complex is better than complicated.\n",
            "Flat is better than nested.\n",
            "Sparse is better than dense.\n",
            "Readability counts.\n",
            "Special cases aren't special enough to break the rules.\n",
            "Although practicality beats purity.\n",
            "Errors should never pass silently.\n",
            "Unless explicitly silenced.\n",
            "In the face of ambiguity, refuse the temptation to guess.\n",
            "There should be one-- and preferably only one --obvious way to do it.\n",
            "Although that way may not be obvious at first unless you're Dutch.\n",
            "Now is better than never.\n",
            "Although never is often better than *right* now.\n",
            "If the implementation is hard to explain, it's a bad idea.\n",
            "If the implementation is easy to explain, it may be a good idea.\n",
            "Namespaces are one honking great idea -- let's do more of those!\n"
          ]
        }
      ]
    }
  ]
}
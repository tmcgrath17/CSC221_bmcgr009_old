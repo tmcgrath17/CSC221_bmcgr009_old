{
  "nbformat": 4,
  "nbformat_minor": 0,
  "metadata": {
    "colab": {
      "provenance": [],
      "authorship_tag": "ABX9TyMzOfcceaTrVxDg9qVTJpM+",
      "include_colab_link": true
    },
    "kernelspec": {
      "name": "python3",
      "display_name": "Python 3"
    },
    "language_info": {
      "name": "python"
    }
  },
  "cells": [
    {
      "cell_type": "markdown",
      "metadata": {
        "id": "view-in-github",
        "colab_type": "text"
      },
      "source": [
        "<a href=\"https://colab.research.google.com/github/tmcgrath17/CSC221_bmcgr009/blob/main/Assignment4.ipynb\" target=\"_parent\"><img src=\"https://colab.research.google.com/assets/colab-badge.svg\" alt=\"Open In Colab\"/></a>"
      ]
    },
    {
      "cell_type": "code",
      "execution_count": null,
      "metadata": {
        "id": "c77jJNV7C82F"
      },
      "outputs": [],
      "source": [
        "bicycles = ['trek','cannondale','redline','specialized']\n",
        "print(bicycles)\n",
        "print(bicycles[0])\n",
        "print(bicycles[0].title())\n",
        "print(bicycles[1])\n",
        "print(bicycles[3])\n",
        "print(bicycles[-1])\n",
        "\n",
        "message = f\"My first bicycle was a {bicycles[0].title()}.\"\n",
        "print(message)\n",
        "\n",
        "#Try It Yourself\n",
        "\n",
        "names = ['Dylan','Katie','Lily','Jonah','Eliana']\n",
        "print(names[0])\n",
        "print(names[1])\n",
        "print(names[2])\n",
        "print(names[3])\n",
        "print(names[4])\n",
        "\n",
        "print(f\"Hello, {names[0]}! How are you?\")\n",
        "print(f\"Hello, {names[1]}! How are you?\")\n",
        "print(f\"Hello, {names[2]}! How are you?\")\n",
        "print(f\"Hello, {names[3]}! How are you?\")\n",
        "print(f\"Hello, {names[4]}! How are you?\")\n",
        "\n",
        "buses = ['double decker','Articulated','mini']\n",
        "print(f\"I find it cool that {buses[0]} buses have 2 floors\")\n",
        "print(f\"{buses[1]} buses have a pivoting joint that connects multiple sections\")\n",
        "print(f\"You might mistake a {buses[2]}bus for a van\")"
      ]
    },
    {
      "cell_type": "code",
      "source": [
        "motorcycles = ['honda','yamaha','suzuki']\n",
        "print(motorcycles)\n",
        "motorcycles[0] = 'ducati'\n",
        "print(motorcycles)\n",
        "\n",
        "motorcycles = ['honda','yamaha','suzuki']\n",
        "motorcycles.append('ducati')\n",
        "print(motorcycles)\n",
        "\n",
        "motorcycles = []\n",
        "motorcycles.append('honda')\n",
        "motorcycles.append('yamaha')\n",
        "motorcycles.append('suzuki')\n",
        "print(motorcycles)\n",
        "\n",
        "motorcycles = ['honda','yamaha','suzuki']\n",
        "motorcycles.insert(0, 'ducati')\n",
        "print(motorcycles)\n",
        "\n",
        "motorcycles = ['honda','yamaha','suzuki']\n",
        "print(motorcycles)\n",
        "del motorcycles[0]\n",
        "print(motorcycles)\n",
        "\n",
        "motorcycles = ['honda','yamaha','suzuki']\n",
        "print(motorcycles)\n",
        "del motorcycles[1]\n",
        "print(motorcycles)\n",
        "\n",
        "motorcycles = ['honda','yamaha','suzuki']\n",
        "print(motorcycles)\n",
        "popped_motorcycle = motorcycles.pop()\n",
        "print(motorcycles)\n",
        "print(popped_motorcycle)\n",
        "\n",
        "motorcycles = ['honda','yamaha','suzuki']\n",
        "last_owned = motorcycles.pop()\n",
        "print(f\"The last motorcycle I owned was a {last_owned.title()}.\")\n",
        "\n",
        "motorcycles = ['honda','yamaha','suzuki']\n",
        "first_owned = motorcycles.pop(0)\n",
        "print(f\"The first motorcycle I owned was a {first_owned.title()}.\")\n",
        "\n",
        "motorcycles = ['honda','yamaha','suzuki','ducati']\n",
        "print(motorcycles)\n",
        "motorcycles.remove('ducati')\n",
        "print(motorcycles)\n",
        "\n",
        "motorcycles = ['honda','yamaha','suzuki','ducati']\n",
        "print(motorcycles)\n",
        "too_expensive = 'ducati'\n",
        "motorcycles.remove(too_expensive)\n",
        "print(motorcycles)\n",
        "print(f\"\\nA {too_expensive.title()} is too expensive for me.\")\n",
        "\n",
        "#Try It Yourself\n",
        "\n",
        "guest_list = ['joe','bob','dave']\n",
        "print(f\"Hey {guest_list[0].title()}, would you like to come over for dinner?\")\n",
        "print(f\"Hey {guest_list[1].title()}, would you like to come over for dinner?\")\n",
        "print(f\"Hey {guest_list[2].title()}, would you like to come over for dinner?\")\n",
        "\n",
        "print(f'{guest_list[1].title()} can not make it.')\n",
        "\n",
        "guest_list[1] = 'adam'\n",
        "print(f\"Hey {guest_list[0].title()}, would you like to come over for dinner?\")\n",
        "print(f\"Hey {guest_list[1].title()}, would you like to come over for dinner?\")\n",
        "print(f\"Hey {guest_list[2].title()}, would you like to come over for dinner?\")\n",
        "\n",
        "print('A bigger table has been found')\n",
        "\n",
        "guest_list.insert(0,'james')\n",
        "guest_list.insert(2, 'matt')\n",
        "guest_list.append('chris')\n",
        "print(f\"Hey {guest_list[0].title()}, would you like to come over for dinner?\")\n",
        "print(f\"Hey {guest_list[1].title()}, would you like to come over for dinner?\")\n",
        "print(f\"Hey {guest_list[2].title()}, would you like to come over for dinner?\")\n",
        "print(f\"Hey {guest_list[3].title()}, would you like to come over for dinner?\")\n",
        "print(f\"Hey {guest_list[4].title()}, would you like to come over for dinner?\")\n",
        "print(f\"Hey {guest_list[5].title()}, would you like to come over for dinner?\")\n",
        "\n",
        "print('I can only invite two of you now')\n",
        "\n",
        "uninvited = guest_list.pop()\n",
        "print(f\"So sorry {uninvited.title()} but you can no longer come to dinner\")\n",
        "uninvited = guest_list.pop()\n",
        "print(f\"So sorry {uninvited.title()} but you can no longer come to dinner\")\n",
        "uninvited = guest_list.pop()\n",
        "print(f\"So sorry {uninvited.title()} but you can no longer come to dinner\")\n",
        "uninvited = guest_list.pop()\n",
        "print(f\"So sorry {uninvited.title()} but you can no longer come to dinner\")\n",
        "\n",
        "print(f\"Its okay {guest_list[0].title()} you can still come to dinner\")\n",
        "print(f\"Its okay {guest_list[1].title()} you can still come to dinner\")\n",
        "\n",
        "print(f\"I am inviting {len(guest_list)} people to dinner\")\n",
        "\n",
        "del guest_list[1]\n",
        "del guest_list[0]\n",
        "print(guest_list)"
      ],
      "metadata": {
        "id": "ryVAUZqVGT5u"
      },
      "execution_count": null,
      "outputs": []
    },
    {
      "cell_type": "code",
      "source": [
        "cars = ['bmw','audi','toyota','subaru']\n",
        "cars.sort()\n",
        "print(cars)\n",
        "\n",
        "cars = ['bmw','audi','toyota','subaru']\n",
        "cars.sort(reverse=True)\n",
        "print(cars)\n",
        "\n",
        "cars = ['bmw','audi','toyota','subaru']\n",
        "print(\"Here is the original list:\")\n",
        "print(cars)\n",
        "print(\"\\nHere is the sorted list:\")\n",
        "print(sorted(cars))\n",
        "print(\"\\nHere is the original list again:\")\n",
        "print(cars)\n",
        "\n",
        "cars = ['bmw','audi','toyota','subaru']\n",
        "print(cars)\n",
        "cars.reverse()\n",
        "print(cars)\n",
        "\n",
        "#Try It Yourself\n",
        "\n",
        "places = ['jamaica','ireland','canada','spain','singapore']\n",
        "print(places)\n",
        "print(sorted(places))\n",
        "print(places)\n",
        "print(sorted(places,reverse=True))\n",
        "print(places)\n",
        "places.reverse()\n",
        "print(places)\n",
        "places.reverse()\n",
        "print(places)\n",
        "places.sort()\n",
        "print(places)\n",
        "places.sort(reverse=True)\n",
        "print(places)"
      ],
      "metadata": {
        "id": "Q0QNlyx9M5AF"
      },
      "execution_count": null,
      "outputs": []
    },
    {
      "cell_type": "code",
      "source": [
        "#Try It Yourself\n",
        "\n",
        "great_lakes = ['superior','michigan','erie','huron','ontario']\n",
        "print(great_lakes)\n",
        "poppedlake = great_lakes.pop()\n",
        "great_lakes.append('ontario')\n",
        "print(great_lakes)\n",
        "print(sorted(great_lakes))\n",
        "print(sorted(great_lakes,reverse=True))\n",
        "del great_lakes[2]\n",
        "print(great_lakes)\n",
        "great_lakes.insert(2,'erie')\n",
        "print(great_lakes)\n",
        "great_lakes.sort()\n",
        "great_lakes.reverse()\n",
        "print(f'There are {len(great_lakes)} great lakes')"
      ],
      "metadata": {
        "id": "DEACWCG_2lo3"
      },
      "execution_count": null,
      "outputs": []
    },
    {
      "cell_type": "code",
      "source": [
        "#Part 3 of Assignment\n",
        "\n",
        "nums1 = [x**3 for x in range(60,86) if x % 7 == 0]\n",
        "print(nums1)\n",
        "\n",
        "nums2 = [40,50,120,-8,6]\n",
        "for x in nums2:\n",
        "  y = 7.4*x + 51\n",
        "  print(y)"
      ],
      "metadata": {
        "colab": {
          "base_uri": "https://localhost:8080/"
        },
        "id": "0BMcK7ou7Vxf",
        "outputId": "8dda9e62-11a9-4029-aae2-eb10f8cec98f"
      },
      "execution_count": 21,
      "outputs": [
        {
          "output_type": "stream",
          "name": "stdout",
          "text": [
            "[250047, 343000, 456533, 592704]\n",
            "347.0\n",
            "421.0\n",
            "939.0\n",
            "-8.200000000000003\n",
            "95.4\n"
          ]
        }
      ]
    }
  ]
}
{
  "nbformat": 4,
  "nbformat_minor": 0,
  "metadata": {
    "colab": {
      "provenance": [],
      "authorship_tag": "ABX9TyPuIGdGZJQeCW9UYNzyRaKI",
      "include_colab_link": true
    },
    "kernelspec": {
      "name": "python3",
      "display_name": "Python 3"
    },
    "language_info": {
      "name": "python"
    }
  },
  "cells": [
    {
      "cell_type": "markdown",
      "metadata": {
        "id": "view-in-github",
        "colab_type": "text"
      },
      "source": [
        "<a href=\"https://colab.research.google.com/github/tmcgrath17/CSC221_bmcgr009/blob/main/Assignment9.ipynb\" target=\"_parent\"><img src=\"https://colab.research.google.com/assets/colab-badge.svg\" alt=\"Open In Colab\"/></a>"
      ]
    },
    {
      "cell_type": "code",
      "execution_count": null,
      "metadata": {
        "id": "6mv15Vep58B0"
      },
      "outputs": [],
      "source": [
        "#TIY 8-2\n",
        "def favorite_book(title):\n",
        "  print(f\"My favorite book is {title.title()}!\")\n",
        "\n",
        "favorite_book('into the wild')\n",
        "\n",
        "#TIY 8-3 and 8-4\n",
        "def make_shirt(size='large',text='I love Python'):\n",
        "  print(f'This {size} shirt has \"{text}\" on it.')\n",
        "\n",
        "make_shirt('large','I Love NY')\n",
        "make_shirt(text='Champion',size='medium')\n",
        "\n",
        "make_shirt()\n",
        "make_shirt(size='medium')\n",
        "make_shirt(size='small',text='Plattsburgh')\n",
        "\n",
        "#TIY 8-14\n",
        "def make_car(manufacturer,model,**car):\n",
        "  car['manufacturer'] = manufacturer\n",
        "  car['model'] = model\n",
        "  return car\n",
        "\n",
        "car = make_car('toyota','prius',color='green',mileage=12000)\n",
        "print(car)"
      ]
    },
    {
      "cell_type": "code",
      "source": [
        "import math\n",
        "def combine(num1,num2=math.pi,verbose=False):\n",
        "  if verbose:\n",
        "    print(f\"The two values are {num1} and {num2}\")\n",
        "    print(f\"The values add to {num1+num2} and are sorted to {sorted([num1,num2])}\")\n",
        "  return num1+num2, sorted([num1,num2])\n",
        "\n",
        "combine(8,3)\n",
        "combine(1,2)\n",
        "combine(4)\n",
        "combine(4,3,True)\n",
        "combine(10,15,True)\n",
        "combine(3,verbose=True)"
      ],
      "metadata": {
        "id": "r4FfEmvqSxKW"
      },
      "execution_count": null,
      "outputs": []
    }
  ]
}
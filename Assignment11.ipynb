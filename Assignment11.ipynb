{
  "nbformat": 4,
  "nbformat_minor": 0,
  "metadata": {
    "colab": {
      "provenance": [],
      "authorship_tag": "ABX9TyNJ+GpgDZcuy0p9zF+Pcrx3",
      "include_colab_link": true
    },
    "kernelspec": {
      "name": "python3",
      "display_name": "Python 3"
    },
    "language_info": {
      "name": "python"
    }
  },
  "cells": [
    {
      "cell_type": "markdown",
      "metadata": {
        "id": "view-in-github",
        "colab_type": "text"
      },
      "source": [
        "<a href=\"https://colab.research.google.com/github/tmcgrath17/CSC221_bmcgr009/blob/main/Assignment11.ipynb\" target=\"_parent\"><img src=\"https://colab.research.google.com/assets/colab-badge.svg\" alt=\"Open In Colab\"/></a>"
      ]
    },
    {
      "cell_type": "code",
      "execution_count": null,
      "metadata": {
        "id": "GUVYqhCal7WF"
      },
      "outputs": [],
      "source": [
        "#Brady McGrath\n",
        "#Assignment 11"
      ]
    },
    {
      "cell_type": "code",
      "source": [
        "class Dog:\n",
        "  \"\"\"A simple attempt to model a dog.\"\"\"\n",
        "  def __init__(self, name, age):\n",
        "    \"\"\"Initialize name and age attributes.\"\"\"\n",
        "    self.name = name\n",
        "    self.age = age\n",
        "\n",
        "  def sit(self):\n",
        "    \"\"\"Simulate a dog sitting in response to a command.\"\"\"\n",
        "    print(f\"{self.name} is now sitting.\")\n",
        "\n",
        "  def roll_over(self):\n",
        "    \"\"\"Simulate rolling over in response to a command.\"\"\"\n",
        "    print(f\"{self.name} rolled over!\")"
      ],
      "metadata": {
        "id": "wOaMpL_KmECW"
      },
      "execution_count": 4,
      "outputs": []
    },
    {
      "cell_type": "code",
      "source": [
        "my_dog = Dog('Willie', 6)\n",
        "print(f\"My dog's name is {my_dog.name}.\")\n",
        "print(f\"My dog is {my_dog.age} years old.\")\n",
        "my_dog.sit()\n",
        "my_dog.roll_over()\n",
        "\n",
        "your_dog = Dog('Lucy', 3)\n",
        "print(f\"\\nYour dog's name is {your_dog.name}.\")\n",
        "print(f\"Your dog is {your_dog.age} years old.\")\n",
        "your_dog.sit()\n",
        "your_dog.roll_over()"
      ],
      "metadata": {
        "id": "XmXD51iSn9Q6"
      },
      "execution_count": null,
      "outputs": []
    },
    {
      "cell_type": "code",
      "source": [
        "\"\"\"A set of classes used to represent gas and electric cars.\"\"\"\n",
        "\n",
        "class Car:\n",
        "  \"\"\"A simple attempt to represent a car.\"\"\"\n",
        "  def __init__(self, make, model, year):\n",
        "    \"\"\"Initialize attributes to describe a car.\"\"\"\n",
        "    self.make = make\n",
        "    self.model = model\n",
        "    self.year = year\n",
        "    self.odometer_reading = 0\n",
        "\n",
        "  def get_descriptive_name(self):\n",
        "    \"\"\"Return a neatly formatted descriptive name.\"\"\"\n",
        "    long_name = f\"{self.year} {self.make} {self.model}\"\n",
        "    return long_name.title()\n",
        "\n",
        "  def read_odometer(self):\n",
        "    \"\"\"Print a statement showing the car's mileage.\"\"\"\n",
        "    print(f\"This car has {self.odometer_reading} miles on it.\")\n",
        "\n",
        "  def update_odometer(self, mileage):\n",
        "    \"\"\"Set the odometer reading to the given value.\n",
        "    Reject the change if it attempts to roll the odometer back.\"\"\"\n",
        "    if mileage >= self.odometer_reading:\n",
        "      self.odometer_reading = mileage\n",
        "    else:\n",
        "      print(\"You can't roll back an odometer!\")\n",
        "\n",
        "  def increment_odometer(self, miles):\n",
        "    \"\"\"Add the given amount to the odometer reading.\"\"\"\n",
        "    self.odometer_reading += miles\n",
        "\n",
        "class Battery:\n",
        "  \"\"\"A simple attempt to model a battery for an electric car.\"\"\"\n",
        "  def __init__(self, battery_size=40):\n",
        "    \"\"\"Initialize the battery's attributes.\"\"\"\n",
        "    self.battery_size = battery_size\n",
        "\n",
        "  def describe_battery(self):\n",
        "    \"\"\"Print a statement describing the battery size.\"\"\"\n",
        "    print(f\"This car has a {self.battery_size}-kWh battery.\")\n",
        "\n",
        "  def get_range(self):\n",
        "    \"\"\"Print a statement about the range this battery provides.\"\"\"\n",
        "    if self.battery_size == 40:\n",
        "      range = 150\n",
        "    elif self.battery_size == 65:\n",
        "      range = 225\n",
        "      print(f\"This car can go about {range} miles on a full charge.\")\n",
        "\n",
        "class ElectricCar(Car):\n",
        "  \"\"\"Represent aspects of a car, specific to electric vehicles.\"\"\"\n",
        "  def __init__(self, make, model, year):\n",
        "    \"\"\"Initialize attributes of the parent class.\n",
        "    Then initialize attributes specific to an electric car.\"\"\"\n",
        "    super().__init__(make, model, year)\n",
        "    self.battery = Battery()\n",
        "\n",
        "  def describe_battery(self):\n",
        "    \"\"\"Print a statement describing the battery size.\"\"\"\n",
        "    print(f\"This car has a {self.battery_size}-kWh battery.\")\n",
        "  def fill_gas_tank(self):\n",
        "    \"\"\"Electric cars don't have gas tanks.\"\"\"\n",
        "    print(\"This car doesn't have a gas tank!\")"
      ],
      "metadata": {
        "id": "ykvbxyvTojAD"
      },
      "execution_count": 8,
      "outputs": []
    },
    {
      "cell_type": "code",
      "source": [
        "my_new_car = Car('audi', 'a4', 2024)\n",
        "print(my_new_car.get_descriptive_name())\n",
        "my_new_car.update_odometer(23)\n",
        "my_new_car.read_odometer()\n",
        "\n",
        "my_used_car = Car('subaru', 'outback', 2019)\n",
        "print(my_used_car.get_descriptive_name())\n",
        "my_used_car.update_odometer(23_500)\n",
        "my_used_car.read_odometer()\n",
        "my_used_car.increment_odometer(100)\n",
        "my_used_car.read_odometer()\n",
        "\n",
        "my_leaf = ElectricCar('nissan', 'leaf', 2024)\n",
        "print(my_leaf.get_descriptive_name())\n",
        "my_leaf.battery.describe_battery()\n",
        "my_leaf.battery.get_range()"
      ],
      "metadata": {
        "id": "TXLOg9lIqFao"
      },
      "execution_count": null,
      "outputs": []
    },
    {
      "cell_type": "code",
      "source": [
        "'''\n",
        "from car import Car\n",
        "my_new_car = Car('audi', 'a4', 2024)\n",
        "print(my_new_car.get_descriptive_name())\n",
        "my_new_car.odometer_reading = 23\n",
        "my_new_car.read_odometer()\n",
        "\n",
        "from car import ElectricCar\n",
        "my_leaf = ElectricCar('nissan', 'leaf', 2024)\n",
        "print(my_leaf.get_descriptive_name())\n",
        "my_leaf.battery.describe_battery()\n",
        "my_leaf.battery.get_range()\n",
        "\n",
        "from car import Car, ElectricCar\n",
        "my_mustang = Car('ford', 'mustang', 2024)\n",
        "print(my_mustang.get_descriptive_name())\n",
        "my_leaf = ElectricCar('nissan', 'leaf', 2024)\n",
        "print(my_leaf.get_descriptive_name())\n",
        "\n",
        "import car\n",
        "my_mustang = car.Car('ford', 'mustang', 2024)\n",
        "print(my_mustang.get_descriptive_name())\n",
        "my_leaf = car.ElectricCar('nissan', 'leaf', 2024)\n",
        "print(my_leaf.get_descriptive_name())\n",
        "'''\n",
        "'''This stuff doesn't work on colab which is why its commented out'''"
      ],
      "metadata": {
        "id": "dOimzXJGt_q8"
      },
      "execution_count": null,
      "outputs": []
    },
    {
      "cell_type": "code",
      "source": [
        "#Try It Yourself\n",
        "\n",
        "#9-1\n",
        "class Restaurant:\n",
        "  \"\"\"A class representing a restaurant\"\"\"\n",
        "  def __init__(self,name,food):\n",
        "    self.restaurant_name = name\n",
        "    self.cuisine_type = food\n",
        "\n",
        "  def describe_restaurant(self):\n",
        "    print(f\"The restaurant is called {self.restaurant_name} and serves {self.cuisine_type} food.\")\n",
        "\n",
        "  def open_restaurant(self):\n",
        "    print(f\"{self.restaurant_name} is now open!\")\n",
        "\n",
        "restaurant = Restaurant(\"Fratelli's\",\"italian\")\n",
        "print(restaurant.restaurant_name)\n",
        "print(restaurant.cuisine_type)\n",
        "restaurant.describe_restaurant()\n",
        "restaurant.open_restaurant()\n",
        "\n",
        "#9-2\n",
        "moes = Restaurant(\"Moe's\",\"mexican\")\n",
        "moes.describe_restaurant()\n",
        "arnies = Restaurant(\"Arnie's\",\"italian\")\n",
        "arnies.describe_restaurant()\n",
        "kfc = Restaurant(\"KFC\",\"fast\")\n",
        "kfc.describe_restaurant()\n",
        "\n",
        "#9-3\n",
        "class User:\n",
        "  \"\"\"A class representing a user\"\"\"\n",
        "  def __init__(self,first,last):\n",
        "    self.first_name = first\n",
        "    self.last_name = last\n",
        "\n",
        "  def describe_user(self):\n",
        "    print(f\"First Name: {self.first_name.title()} \\nLast Name: {self.last_name.title()}\")\n",
        "\n",
        "  def greet_user(self):\n",
        "    print(f\"Hello there, {self.first_name.title()} {self.last_name.title()}!\")\n",
        "\n",
        "user1 = User('brady','mcgrath')\n",
        "user1.describe_user()\n",
        "user1.greet_user()\n",
        "\n",
        "user2 = User('katie','hoiser')\n",
        "user2.describe_user()\n",
        "user2.greet_user()\n",
        "\n",
        "user2 = User('lily','cubanski')\n",
        "user2.describe_user()\n",
        "user2.greet_user()\n",
        "\n",
        "#9-6\n",
        "class IceCreamStand(Restaurant):\n",
        "  \"\"\"A subclass representing an ice cream stand\"\"\"\n",
        "  def __init__(self,name,food,flavor):\n",
        "    super().__init__(name,food)\n",
        "    self.flavors = flavor\n",
        "\n",
        "  def list_flavors(self):\n",
        "    print(f\"Here are the flavors: \\n{self.flavors}\")\n",
        "\n",
        "icecream = IceCreamStand(\"Ben's\",\"ice cream\",[\"chocolate\",\"vanilla\",\"strawberry\",\"coconut\",\"pistachio\",\"mint\"])\n",
        "icecream.list_flavors()\n",
        "\n",
        "#9-7\n",
        "class Admin(User):\n",
        "  \"\"\"A subclass representing an admin\"\"\"\n",
        "  def __init__(self,first,last,priv):\n",
        "    super().__init__(first,last)\n",
        "    self.privileges = priv\n",
        "\n",
        "  def show_privileges(self):\n",
        "    print(self.privileges)\n",
        "\n",
        "\n",
        "brady = Admin(\"brady\",\"mcgrath\",[\"can add posts\",\"can edit posts\",\"can delete posts\",\"can invite users\",\"can ban users\",\"can mute users\"])\n",
        "brady.show_privileges()"
      ],
      "metadata": {
        "colab": {
          "base_uri": "https://localhost:8080/"
        },
        "id": "YXO_GckBuXk8",
        "outputId": "a57b4d38-1ba9-4256-e989-b5923b71c788"
      },
      "execution_count": 18,
      "outputs": [
        {
          "output_type": "stream",
          "name": "stdout",
          "text": [
            "Fratelli's\n",
            "italian\n",
            "The restaurant is called Fratelli's and serves italian food.\n",
            "Fratelli's is now open!\n",
            "The restaurant is called Moe's and serves mexican food.\n",
            "The restaurant is called Arnie's and serves italian food.\n",
            "The restaurant is called KFC and serves fast food.\n",
            "First Name: Brady \n",
            "Last Name: Mcgrath\n",
            "Hello there, Brady Mcgrath!\n",
            "First Name: Katie \n",
            "Last Name: Hoiser\n",
            "Hello there, Katie Hoiser!\n",
            "First Name: Lily \n",
            "Last Name: Cubanski\n",
            "Hello there, Lily Cubanski!\n",
            "Here are the flavors: \n",
            "['chocolate', 'vanilla', 'strawberry', 'coconut', 'pistachio', 'mint']\n",
            "['can add posts', 'can edit posts', 'can delete posts', 'can invite users', 'can ban users', 'can mute users']\n"
          ]
        }
      ]
    }
  ]
}